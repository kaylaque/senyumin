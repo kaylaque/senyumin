{
  "nbformat": 4,
  "nbformat_minor": 0,
  "metadata": {
    "colab": {
      "name": "Transfer Learning VGG19 FER.ipynb",
      "provenance": [],
      "mount_file_id": "10Mmr8IWlksj6nhQ3B82ZQeo-7hpwqUoR",
      "authorship_tag": "ABX9TyNylz3xsB3Zr4eCFYeLymGj",
      "include_colab_link": true
    },
    "kernelspec": {
      "name": "python3",
      "display_name": "Python 3"
    },
    "language_info": {
      "name": "python"
    },
    "accelerator": "TPU"
  },
  "cells": [
    {
      "cell_type": "markdown",
      "metadata": {
        "id": "view-in-github",
        "colab_type": "text"
      },
      "source": [
        "<a href=\"https://colab.research.google.com/github/kaylaque/senyumin/blob/main/Transfer_Learning_VGG19_FER.ipynb\" target=\"_parent\"><img src=\"https://colab.research.google.com/assets/colab-badge.svg\" alt=\"Open In Colab\"/></a>"
      ]
    },
    {
      "cell_type": "code",
      "metadata": {
        "id": "GS3TPnRE5uYA"
      },
      "source": [
        "import tensorflow as tf\n",
        "import keras\n",
        "from keras.models import Sequential\n",
        "from keras.optimizers import RMSprop\n",
        "from tensorflow.keras.preprocessing.image import ImageDataGenerator\n",
        "from keras.utils import to_categorical\n",
        "from keras.models import Sequential\n",
        "from keras.layers import Conv2D\n",
        "from keras.layers import MaxPooling2D\n",
        "from keras.layers import Dense\n",
        "from keras.layers import Flatten, Dropout\n",
        "import matplotlib.pyplot as plt\n",
        "from sklearn.metrics import classification_report, confusion_matrix\n",
        "import numpy as np"
      ],
      "execution_count": null,
      "outputs": []
    },
    {
      "cell_type": "code",
      "metadata": {
        "id": "CYJQEdAN6wyO"
      },
      "source": [
        "# directory\n",
        "dir = '/content/drive/MyDrive/dsc/PLAN A [DATASET FAILED]/fer2013/fer'\n",
        "filepath = '/content/drive/MyDrive/dsc/PLAN B [ONGOING]/'"
      ],
      "execution_count": null,
      "outputs": []
    },
    {
      "cell_type": "code",
      "metadata": {
        "colab": {
          "base_uri": "https://localhost:8080/"
        },
        "id": "5YHOfo_MFbma",
        "outputId": "c93891d6-c1de-4156-9207-f6a1568a4ebe"
      },
      "source": [
        "import cv2\n",
        "img = cv2.imread(dir + '/angry/img_0.png')\n",
        "img.shape"
      ],
      "execution_count": null,
      "outputs": [
        {
          "output_type": "execute_result",
          "data": {
            "text/plain": [
              "(224, 224, 3)"
            ]
          },
          "metadata": {
            "tags": []
          },
          "execution_count": 31
        }
      ]
    },
    {
      "cell_type": "code",
      "metadata": {
        "id": "mZinpgF66EQH"
      },
      "source": [
        "# augmentate data with ImageDataGenerator and amount of validation's data is 40%  of total data\n",
        "aug_data = ImageDataGenerator(\n",
        "    rescale=1./255,\n",
        "    horizontal_flip=True,\n",
        "    rotation_range=5,\n",
        "    height_shift_range=0.2,\n",
        "    # zca_whitening=True,\n",
        "    vertical_flip = True,\n",
        "    brightness_range=[0.2,1.0],\n",
        "    zoom_range=[1.5,1.0],\n",
        "    fill_mode='nearest',\n",
        "    validation_split=0.4\n",
        ")"
      ],
      "execution_count": null,
      "outputs": []
    },
    {
      "cell_type": "code",
      "metadata": {
        "colab": {
          "base_uri": "https://localhost:8080/"
        },
        "id": "Gfa_yvAs6HOk",
        "outputId": "81c2f467-c278-4f08-99f6-6f795e151b60"
      },
      "source": [
        "# define training data\n",
        "train_gen = aug_data.flow_from_directory(\n",
        "    dir,\n",
        "    target_size=(150, 150),\n",
        "    batch_size=32,\n",
        "    class_mode='categorical',\n",
        "    shuffle=True,\n",
        "    subset='training'\n",
        ")\n",
        "# define validation data\n",
        "val_gen = aug_data.flow_from_directory(\n",
        "    dir,\n",
        "    target_size=(150, 150),\n",
        "    batch_size=32,\n",
        "    class_mode='categorical',\n",
        "    shuffle=True,\n",
        "    subset='validation'\n",
        ")"
      ],
      "execution_count": null,
      "outputs": [
        {
          "output_type": "stream",
          "text": [
            "Found 4739 images belonging to 5 classes.\n",
            "Found 3156 images belonging to 5 classes.\n"
          ],
          "name": "stdout"
        }
      ]
    },
    {
      "cell_type": "code",
      "metadata": {
        "id": "xcnVlvqOCwzt",
        "colab": {
          "base_uri": "https://localhost:8080/"
        },
        "outputId": "6a1d3a21-7b15-48ac-8bd2-7cc0d7570897"
      },
      "source": [
        "base_model = keras.applications.VGG19(\n",
        "    weights=\"imagenet\",  # Load weights pre-trained on ImageNet.\n",
        "    input_shape=(150, 150, 3),\n",
        "    include_top=False,\n",
        ")  # Do not include the ImageNet classifier at the top.\n",
        "\n",
        "# Freeze the base_model\n",
        "base_model.trainable = False\n",
        "\n",
        "# Create new model on top\n",
        "inputs = keras.Input(shape=(150, 150, 3))\n",
        "\n",
        "# Pre-trained Xception weights requires that input be normalized\n",
        "# from (0, 255) to a range (-1., +1.), the normalization layer\n",
        "# does the following, outputs = (inputs - mean) / sqrt(var)\n",
        "norm_layer = keras.layers.experimental.preprocessing.Normalization()\n",
        "mean = np.array([127.5] * 3)\n",
        "var = mean ** 2\n",
        "# Scale inputs to [-1, +1]\n",
        "x = norm_layer(inputs)\n",
        "norm_layer.set_weights([mean, var])\n",
        "\n",
        "# The base model contains batchnorm layers. We want to keep them in inference mode\n",
        "# when we unfreeze the base model for fine-tuning, so we make sure that the\n",
        "# base_model is running in inference mode here.\n",
        "x = base_model(x, training=False)\n",
        "x = keras.layers.GlobalAveragePooling2D()(x)\n",
        "x = keras.layers.Dropout(0.2)(x)  # Regularize with dropout\n",
        "x = keras.layers.Flatten()(x)\n",
        "outputs = keras.layers.Dense(5, activation = 'softmax')(x)\n",
        "model = keras.Model(inputs, outputs)\n",
        "\n",
        "model.summary()"
      ],
      "execution_count": null,
      "outputs": [
        {
          "output_type": "stream",
          "text": [
            "Downloading data from https://storage.googleapis.com/tensorflow/keras-applications/vgg19/vgg19_weights_tf_dim_ordering_tf_kernels_notop.h5\n",
            "80142336/80134624 [==============================] - 1s 0us/step\n",
            "Model: \"model\"\n",
            "_________________________________________________________________\n",
            "Layer (type)                 Output Shape              Param #   \n",
            "=================================================================\n",
            "input_2 (InputLayer)         [(None, 150, 150, 3)]     0         \n",
            "_________________________________________________________________\n",
            "normalization (Normalization (None, 150, 150, 3)       7         \n",
            "_________________________________________________________________\n",
            "vgg19 (Functional)           (None, 4, 4, 512)         20024384  \n",
            "_________________________________________________________________\n",
            "global_average_pooling2d (Gl (None, 512)               0         \n",
            "_________________________________________________________________\n",
            "dropout (Dropout)            (None, 512)               0         \n",
            "_________________________________________________________________\n",
            "flatten (Flatten)            (None, 512)               0         \n",
            "_________________________________________________________________\n",
            "dense (Dense)                (None, 5)                 2565      \n",
            "=================================================================\n",
            "Total params: 20,026,956\n",
            "Trainable params: 2,565\n",
            "Non-trainable params: 20,024,391\n",
            "_________________________________________________________________\n"
          ],
          "name": "stdout"
        }
      ]
    },
    {
      "cell_type": "code",
      "metadata": {
        "id": "wJHzaxHmCszs"
      },
      "source": [
        "callbacks = tf.keras.callbacks.ModelCheckpoint(\n",
        "    filepath,\n",
        "    monitor=\"val_loss\",\n",
        "    verbose=0,\n",
        "    save_best_only=False,\n",
        "    save_weights_only=True,\n",
        "    mode=\"auto\",\n",
        "    save_freq=\"epoch\",\n",
        "    options=None\n",
        ")"
      ],
      "execution_count": null,
      "outputs": []
    },
    {
      "cell_type": "code",
      "metadata": {
        "id": "TnTUFpxeCwzu"
      },
      "source": [
        "model.compile(\n",
        "    optimizer=tf.keras.optimizers.RMSprop(),\n",
        "    loss=tf.keras.losses.CategoricalCrossentropy(),\n",
        "    metrics=[tf.keras.metrics.CategoricalAccuracy()],\n",
        ")"
      ],
      "execution_count": null,
      "outputs": []
    },
    {
      "cell_type": "code",
      "metadata": {
        "colab": {
          "base_uri": "https://localhost:8080/"
        },
        "id": "q4_J4obrNKMm",
        "outputId": "eb928b3f-0016-411e-e0af-b9b492513f73"
      },
      "source": [
        "epochs = 20\n",
        "batch_size = 32\n",
        "hist = model.fit(train_gen,\n",
        "                 batch_size = 32,\n",
        "                 steps_per_epoch=len(train_gen)//batch_size, \n",
        "                 epochs=epochs, \n",
        "                #  callbacks=callbacks, \n",
        "                #  validation_steps=,\n",
        "                 validation_data=val_gen,\n",
        "                 verbose=1)"
      ],
      "execution_count": null,
      "outputs": [
        {
          "output_type": "stream",
          "text": [
            "Epoch 1/20\n",
            "4/4 [==============================] - 1004s 329s/step - loss: 1.5595 - categorical_accuracy: 0.2865 - val_loss: 1.4695 - val_categorical_accuracy: 0.3663\n",
            "Epoch 2/20\n",
            "4/4 [==============================] - 914s 299s/step - loss: 1.5197 - categorical_accuracy: 0.2781 - val_loss: 1.4424 - val_categorical_accuracy: 0.3663\n",
            "Epoch 3/20\n",
            "4/4 [==============================] - ETA: 0s - loss: 1.4767 - categorical_accuracy: 0.3438"
          ],
          "name": "stdout"
        }
      ]
    },
    {
      "cell_type": "code",
      "metadata": {
        "id": "N3KXh1bVCwzw",
        "colab": {
          "base_uri": "https://localhost:8080/"
        },
        "outputId": "1da72480-9211-465f-8326-a06b20b60c0a"
      },
      "source": [
        "# Unfreeze the base_model. Note that it keeps running in inference mode\n",
        "# since we passed `training=False` when calling it. This means that\n",
        "# the batchnorm layers will not update their batch statistics.\n",
        "# This prevents the batchnorm layers from undoing all the training\n",
        "# we've done so far.\n",
        "base_model.trainable = True\n",
        "model.summary()\n",
        "\n",
        "model.compile(\n",
        "    optimizer=keras.optimizers.RMSprop(1e-5),  # Low learning rate\n",
        "    loss=keras.losses.CategoricalCrossentropy(),\n",
        "    metrics=[keras.metrics.CategoricalAccuracy()],\n",
        ")\n",
        "\n",
        "epochs = 10"
      ],
      "execution_count": null,
      "outputs": [
        {
          "output_type": "stream",
          "text": [
            "Model: \"model_1\"\n",
            "_________________________________________________________________\n",
            "Layer (type)                 Output Shape              Param #   \n",
            "=================================================================\n",
            "input_4 (InputLayer)         [(None, 150, 150, 3)]     0         \n",
            "_________________________________________________________________\n",
            "normalization_1 (Normalizati (None, 150, 150, 3)       7         \n",
            "_________________________________________________________________\n",
            "vgg19 (Functional)           (None, 4, 4, 512)         20024384  \n",
            "_________________________________________________________________\n",
            "global_average_pooling2d_1 ( (None, 512)               0         \n",
            "_________________________________________________________________\n",
            "dropout_1 (Dropout)          (None, 512)               0         \n",
            "_________________________________________________________________\n",
            "flatten_1 (Flatten)          (None, 512)               0         \n",
            "_________________________________________________________________\n",
            "dense_1 (Dense)              (None, 5)                 2565      \n",
            "=================================================================\n",
            "Total params: 20,026,956\n",
            "Trainable params: 20,026,949\n",
            "Non-trainable params: 7\n",
            "_________________________________________________________________\n"
          ],
          "name": "stdout"
        }
      ]
    },
    {
      "cell_type": "code",
      "metadata": {
        "colab": {
          "base_uri": "https://localhost:8080/"
        },
        "id": "zfzyDOe7S_0r",
        "outputId": "802a136d-1a54-4510-d319-4e2beb186029"
      },
      "source": [
        "history = model.fit(train_gen,\n",
        "                 batch_size = 32,\n",
        "                 steps_per_epoch=len(train_gen)//batch_size, \n",
        "                 epochs=epochs, \n",
        "                #  callbacks=callbacks, \n",
        "                #  validation_steps=,\n",
        "                 validation_data=val_gen,\n",
        "                 verbose=1)"
      ],
      "execution_count": null,
      "outputs": [
        {
          "output_type": "stream",
          "text": [
            "Epoch 1/5\n",
            "4/4 [==============================] - 1020s 326s/step - loss: 1.4011 - categorical_accuracy: 0.3490 - val_loss: 1.4259 - val_categorical_accuracy: 0.3663\n",
            "Epoch 2/5\n",
            "4/4 [==============================] - 1022s 328s/step - loss: 1.4635 - categorical_accuracy: 0.2802 - val_loss: 1.4313 - val_categorical_accuracy: 0.3663\n",
            "Epoch 3/5\n",
            "4/4 [==============================] - 1016s 326s/step - loss: 1.4601 - categorical_accuracy: 0.3125 - val_loss: 1.4313 - val_categorical_accuracy: 0.3663\n",
            "Epoch 4/5\n",
            "4/4 [==============================] - 1017s 327s/step - loss: 1.4345 - categorical_accuracy: 0.2917 - val_loss: 1.4190 - val_categorical_accuracy: 0.3663\n",
            "Epoch 5/5\n",
            "4/4 [==============================] - 1011s 325s/step - loss: 1.3903 - categorical_accuracy: 0.3063 - val_loss: 1.4226 - val_categorical_accuracy: 0.3663\n"
          ],
          "name": "stdout"
        }
      ]
    },
    {
      "cell_type": "code",
      "metadata": {
        "id": "iK2HZxpyZspn",
        "colab": {
          "base_uri": "https://localhost:8080/"
        },
        "outputId": "4979f592-9a47-484b-fb8f-b83a9af177ed"
      },
      "source": [
        "%cd \"/content/drive/MyDrive/dsc/PLAN B [ONGOING]/\"\n",
        "model.save_weights('model_weightsVGG.h5')\n",
        "model.save('model_keras30.h5')\n",
        "print(\"Saved model to disk\")"
      ],
      "execution_count": null,
      "outputs": [
        {
          "output_type": "stream",
          "text": [
            "/content/drive/MyDrive/dsc/PLAN B [ONGOING]\n",
            "Saved model to disk\n"
          ],
          "name": "stdout"
        }
      ]
    }
  ]
}