{
  "nbformat": 4,
  "nbformat_minor": 0,
  "metadata": {
    "colab": {
      "name": "Model from scratch.ipynb",
      "provenance": [],
      "collapsed_sections": [],
      "include_colab_link": true
    },
    "kernelspec": {
      "name": "python3",
      "display_name": "Python 3"
    },
    "accelerator": "TPU"
  },
  "cells": [
    {
      "cell_type": "markdown",
      "metadata": {
        "id": "view-in-github",
        "colab_type": "text"
      },
      "source": [
        "<a href=\"https://colab.research.google.com/github/kaylaque/senyumin/blob/main/Model_from_scratch.ipynb\" target=\"_parent\"><img src=\"https://colab.research.google.com/assets/colab-badge.svg\" alt=\"Open In Colab\"/></a>"
      ]
    },
    {
      "cell_type": "code",
      "metadata": {
        "id": "zgj8nqGV4UBl"
      },
      "source": [
        "# extract zipfile\n",
        "import zipfile,os\n",
        "zip_ref = zipfile.ZipFile('rockpaperscissors.zip', 'r')\n",
        "zip_ref.extractall('/')\n",
        "zip_ref.close()\n",
        "#define directory of dataset\n",
        "directory = '/rockpaperscissors/rps-cv-images'"
      ],
      "execution_count": null,
      "outputs": []
    },
    {
      "cell_type": "code",
      "metadata": {
        "id": "PihPiEmYO7e3"
      },
      "source": [
        "dir = '/content/drive/MyDrive/dsc/PLAN A [DATASET FAILED]/fer2013/fer'"
      ],
      "execution_count": null,
      "outputs": []
    },
    {
      "cell_type": "code",
      "metadata": {
        "id": "egq5O0UQ5R3u"
      },
      "source": [
        "import tensorflow as tf\n",
        "import keras\n",
        "from keras.models import Sequential\n",
        "from keras.optimizers import RMSprop\n",
        "from tensorflow.keras.preprocessing.image import ImageDataGenerator\n",
        "from keras.utils import to_categorical\n",
        "from keras.models import Sequential\n",
        "from keras.layers import Conv2D\n",
        "from keras.layers import MaxPooling2D\n",
        "from keras.layers import Dense\n",
        "from keras.layers import Flatten, Dropout\n",
        "import matplotlib.pyplot as plt\n",
        "from sklearn.metrics import classification_report, confusion_matrix\n",
        "import numpy as np"
      ],
      "execution_count": null,
      "outputs": []
    },
    {
      "cell_type": "code",
      "metadata": {
        "id": "hPDEuPJ25iXP"
      },
      "source": [
        "# augmentate data with ImageDataGenerator and amount of validation's data is 20%  of total data\n",
        "aug_data = ImageDataGenerator(\n",
        "    rescale=1./255,\n",
        "    horizontal_flip=True,\n",
        "    rotation_range=5,\n",
        "    height_shift_range=0.2,\n",
        "    # zca_whitening=True,\n",
        "    vertical_flip = True,\n",
        "    brightness_range=[0.2,1.0],\n",
        "    zoom_range=[1.5,1.0],\n",
        "    fill_mode='nearest',\n",
        "    validation_split=0.2\n",
        ")"
      ],
      "execution_count": null,
      "outputs": []
    },
    {
      "cell_type": "code",
      "metadata": {
        "id": "gBj38qyq7Eeu",
        "colab": {
          "base_uri": "https://localhost:8080/"
        },
        "outputId": "24a354d0-e0ba-406c-a4d2-ad3ed912e173"
      },
      "source": [
        "# define training data\n",
        "train_gen = aug_data.flow_from_directory(\n",
        "    dir,\n",
        "    target_size=(224, 224),\n",
        "    batch_size=32,\n",
        "    class_mode='categorical',\n",
        "    shuffle=True,\n",
        "    subset='training'\n",
        ")\n",
        "# define validation data\n",
        "val_gen = aug_data.flow_from_directory(\n",
        "    dir,\n",
        "    target_size=(224, 224),\n",
        "    batch_size=32,\n",
        "    class_mode='categorical',\n",
        "    shuffle=True,\n",
        "    subset='validation'\n",
        ")"
      ],
      "execution_count": null,
      "outputs": [
        {
          "output_type": "stream",
          "text": [
            "Found 6318 images belonging to 5 classes.\n",
            "Found 1577 images belonging to 5 classes.\n"
          ],
          "name": "stdout"
        }
      ]
    },
    {
      "cell_type": "code",
      "metadata": {
        "colab": {
          "base_uri": "https://localhost:8080/"
        },
        "id": "n4yNJ9OQPfAf",
        "outputId": "3a2ed029-c635-4f96-9315-e75723f2fbf7"
      },
      "source": [
        "num_classes = len(val_gen.class_indices)\n",
        "print(val_gen.class_indices)"
      ],
      "execution_count": null,
      "outputs": [
        {
          "output_type": "stream",
          "text": [
            "{'angry': 0, 'disgust': 1, 'happy': 2, 'sad': 3, 'surprised': 4}\n"
          ],
          "name": "stdout"
        }
      ]
    },
    {
      "cell_type": "code",
      "metadata": {
        "id": "pWYgeTeO8lQs"
      },
      "source": [
        "#define the model architecture\n",
        "model = Sequential()\n",
        "model.add(Conv2D(6, (5, 5), activation='relu', input_shape=(224, 224, 3), padding='same'))\n",
        "model.add(MaxPooling2D(pool_size=(2, 2)))\n",
        " \n",
        "model.add(Conv2D(16, (5, 5), activation='relu', padding='same'))\n",
        "model.add(MaxPooling2D(pool_size=(2, 2)))\n",
        " \n",
        "# model.add(Conv2D(16, (5, 5), activation='relu', padding='same'))\n",
        "# model.add(MaxPooling2D(pool_size=(2, 2)))\n",
        " \n",
        "model.add(Conv2D(120, (5, 5), activation='relu'))\n",
        "model.add(Dropout(0.25))\n",
        " \n",
        "model.add(Flatten())\n",
        "model.add(Dense(84, activation='relu'))\n",
        "model.add(Dropout(0.5))\n",
        "model.add(Dense(num_classes, activation = 'softmax'))"
      ],
      "execution_count": null,
      "outputs": []
    },
    {
      "cell_type": "code",
      "metadata": {
        "id": "571OFMrogruI"
      },
      "source": [
        "# compile model and define loss function & optimizer \n",
        "model.compile(loss='categorical_crossentropy', optimizer='RMSprop', metrics=[\"accuracy\"])"
      ],
      "execution_count": null,
      "outputs": []
    },
    {
      "cell_type": "code",
      "metadata": {
        "id": "W7PaO1OjY7m0",
        "colab": {
          "base_uri": "https://localhost:8080/"
        },
        "outputId": "c389bc7e-4f37-4cf4-d10a-deb317b6e16b"
      },
      "source": [
        "model.summary()"
      ],
      "execution_count": null,
      "outputs": [
        {
          "output_type": "stream",
          "text": [
            "Model: \"sequential\"\n",
            "_________________________________________________________________\n",
            "Layer (type)                 Output Shape              Param #   \n",
            "=================================================================\n",
            "conv2d (Conv2D)              (None, 224, 224, 6)       456       \n",
            "_________________________________________________________________\n",
            "max_pooling2d (MaxPooling2D) (None, 112, 112, 6)       0         \n",
            "_________________________________________________________________\n",
            "conv2d_1 (Conv2D)            (None, 112, 112, 16)      2416      \n",
            "_________________________________________________________________\n",
            "max_pooling2d_1 (MaxPooling2 (None, 56, 56, 16)        0         \n",
            "_________________________________________________________________\n",
            "conv2d_2 (Conv2D)            (None, 52, 52, 120)       48120     \n",
            "_________________________________________________________________\n",
            "dropout (Dropout)            (None, 52, 52, 120)       0         \n",
            "_________________________________________________________________\n",
            "flatten (Flatten)            (None, 324480)            0         \n",
            "_________________________________________________________________\n",
            "dense (Dense)                (None, 84)                27256404  \n",
            "_________________________________________________________________\n",
            "dropout_1 (Dropout)          (None, 84)                0         \n",
            "_________________________________________________________________\n",
            "dense_1 (Dense)              (None, 5)                 425       \n",
            "=================================================================\n",
            "Total params: 27,307,821\n",
            "Trainable params: 27,307,821\n",
            "Non-trainable params: 0\n",
            "_________________________________________________________________\n"
          ],
          "name": "stdout"
        }
      ]
    },
    {
      "cell_type": "code",
      "metadata": {
        "id": "aMbjw5c0Q1-j"
      },
      "source": [
        "filepath = '/content/drive/MyDrive/dsc/PLAN B [ONGOING]/'\n",
        "callbacks = tf.keras.callbacks.ModelCheckpoint(\n",
        "    filepath,\n",
        "    monitor=\"val_loss\",\n",
        "    verbose=0,\n",
        "    save_best_only=False,\n",
        "    save_weights_only=True,\n",
        "    mode=\"auto\",\n",
        "    save_freq=\"epoch\",\n",
        "    options=None\n",
        ")"
      ],
      "execution_count": null,
      "outputs": []
    },
    {
      "cell_type": "code",
      "metadata": {
        "id": "cuNFSXyHsK3q",
        "colab": {
          "base_uri": "https://localhost:8080/"
        },
        "outputId": "8f7ba8ed-5aed-4dc6-e340-1e5f5d6854cf"
      },
      "source": [
        "#run the training process\n",
        "result=model.fit(\n",
        "    train_gen,\n",
        "    steps_per_epoch=25, # batch per epoch\n",
        "    epochs=100, #number of epoch\n",
        "    callbacks=callbacks, \n",
        "    validation_data=val_gen, #show acc of val data test\n",
        "    validation_steps=5, #batch per epoch\n",
        "    verbose=1\n",
        ")"
      ],
      "execution_count": null,
      "outputs": [
        {
          "output_type": "stream",
          "text": [
            "Epoch 1/100\n",
            "25/25 [==============================] - 321s 13s/step - loss: 2.2831 - accuracy: 0.2897 - val_loss: 1.4353 - val_accuracy: 0.4563\n",
            "Epoch 2/100\n",
            "25/25 [==============================] - 203s 8s/step - loss: 1.4137 - accuracy: 0.4061 - val_loss: 1.3921 - val_accuracy: 0.4000\n",
            "Epoch 3/100\n",
            "25/25 [==============================] - 169s 7s/step - loss: 1.4722 - accuracy: 0.3718 - val_loss: 1.3639 - val_accuracy: 0.4000\n",
            "Epoch 4/100\n",
            "25/25 [==============================] - 154s 6s/step - loss: 1.4348 - accuracy: 0.3971 - val_loss: 1.5036 - val_accuracy: 0.2000\n",
            "Epoch 5/100\n",
            "25/25 [==============================] - 145s 6s/step - loss: 1.4669 - accuracy: 0.3556 - val_loss: 1.4235 - val_accuracy: 0.3562\n",
            "Epoch 6/100\n",
            "25/25 [==============================] - 125s 5s/step - loss: 1.4314 - accuracy: 0.3463 - val_loss: 1.4241 - val_accuracy: 0.3625\n",
            "Epoch 7/100\n",
            "25/25 [==============================] - 113s 4s/step - loss: 1.4168 - accuracy: 0.3640 - val_loss: 1.3713 - val_accuracy: 0.4000\n",
            "Epoch 8/100\n",
            "25/25 [==============================] - 106s 4s/step - loss: 1.4565 - accuracy: 0.3656 - val_loss: 1.3495 - val_accuracy: 0.4187\n",
            "Epoch 9/100\n",
            "25/25 [==============================] - 97s 4s/step - loss: 1.4147 - accuracy: 0.3778 - val_loss: 1.3920 - val_accuracy: 0.3625\n",
            "Epoch 10/100\n",
            "25/25 [==============================] - 91s 4s/step - loss: 1.4494 - accuracy: 0.3677 - val_loss: 1.4305 - val_accuracy: 0.3562\n",
            "Epoch 11/100\n",
            "25/25 [==============================] - 92s 4s/step - loss: 1.4441 - accuracy: 0.3216 - val_loss: 1.4039 - val_accuracy: 0.4062\n",
            "Epoch 12/100\n",
            "25/25 [==============================] - 85s 3s/step - loss: 1.4618 - accuracy: 0.3633 - val_loss: 1.4376 - val_accuracy: 0.3500\n",
            "Epoch 13/100\n",
            "25/25 [==============================] - 84s 3s/step - loss: 1.4784 - accuracy: 0.3139 - val_loss: 1.3724 - val_accuracy: 0.4000\n",
            "Epoch 14/100\n",
            "25/25 [==============================] - 81s 3s/step - loss: 1.4554 - accuracy: 0.3692 - val_loss: 1.3974 - val_accuracy: 0.3875\n",
            "Epoch 15/100\n",
            "25/25 [==============================] - 80s 3s/step - loss: 1.4003 - accuracy: 0.3599 - val_loss: 1.4459 - val_accuracy: 0.4062\n",
            "Epoch 16/100\n",
            "25/25 [==============================] - 79s 3s/step - loss: 1.4101 - accuracy: 0.3157 - val_loss: 1.3664 - val_accuracy: 0.4000\n",
            "Epoch 17/100\n",
            "25/25 [==============================] - 79s 3s/step - loss: 1.4534 - accuracy: 0.3375 - val_loss: 1.3931 - val_accuracy: 0.3313\n",
            "Epoch 18/100\n",
            "25/25 [==============================] - 77s 3s/step - loss: 1.4254 - accuracy: 0.3910 - val_loss: 1.3667 - val_accuracy: 0.3812\n",
            "Epoch 19/100\n",
            "25/25 [==============================] - 77s 3s/step - loss: 1.4241 - accuracy: 0.3368 - val_loss: 1.4412 - val_accuracy: 0.4000\n",
            "Epoch 20/100\n",
            "25/25 [==============================] - 76s 3s/step - loss: 1.3834 - accuracy: 0.4015 - val_loss: 1.4354 - val_accuracy: 0.3375\n",
            "Epoch 21/100\n",
            "25/25 [==============================] - 77s 3s/step - loss: 1.4314 - accuracy: 0.4046 - val_loss: 1.4088 - val_accuracy: 0.3812\n",
            "Epoch 22/100\n",
            "25/25 [==============================] - 73s 3s/step - loss: 1.5251 - accuracy: 0.3620 - val_loss: 1.4111 - val_accuracy: 0.3562\n",
            "Epoch 23/100\n",
            "25/25 [==============================] - 75s 3s/step - loss: 1.3938 - accuracy: 0.3704 - val_loss: 1.4362 - val_accuracy: 0.3750\n",
            "Epoch 24/100\n",
            "25/25 [==============================] - 75s 3s/step - loss: 1.4661 - accuracy: 0.3683 - val_loss: 1.3500 - val_accuracy: 0.3938\n",
            "Epoch 25/100\n",
            "25/25 [==============================] - 74s 3s/step - loss: 1.3971 - accuracy: 0.3703 - val_loss: 1.4514 - val_accuracy: 0.3375\n",
            "Epoch 26/100\n",
            "25/25 [==============================] - 75s 3s/step - loss: 1.4541 - accuracy: 0.3355 - val_loss: 1.3994 - val_accuracy: 0.3625\n",
            "Epoch 27/100\n",
            "25/25 [==============================] - 74s 3s/step - loss: 1.4345 - accuracy: 0.3726 - val_loss: 1.4134 - val_accuracy: 0.3187\n",
            "Epoch 28/100\n",
            "25/25 [==============================] - 74s 3s/step - loss: 1.4298 - accuracy: 0.3691 - val_loss: 1.4126 - val_accuracy: 0.3750\n",
            "Epoch 29/100\n",
            "25/25 [==============================] - 74s 3s/step - loss: 1.4449 - accuracy: 0.3387 - val_loss: 1.3882 - val_accuracy: 0.3875\n",
            "Epoch 30/100\n",
            "25/25 [==============================] - 74s 3s/step - loss: 1.4079 - accuracy: 0.3449 - val_loss: 1.3714 - val_accuracy: 0.3812\n",
            "Epoch 31/100\n",
            "25/25 [==============================] - 74s 3s/step - loss: 1.4252 - accuracy: 0.3334 - val_loss: 1.6685 - val_accuracy: 0.3750\n",
            "Epoch 32/100\n",
            "25/25 [==============================] - 74s 3s/step - loss: 1.4788 - accuracy: 0.3711 - val_loss: 1.4340 - val_accuracy: 0.3812\n",
            "Epoch 33/100\n",
            "25/25 [==============================] - 73s 3s/step - loss: 1.4185 - accuracy: 0.3707 - val_loss: 1.4002 - val_accuracy: 0.3812\n",
            "Epoch 34/100\n",
            "25/25 [==============================] - 73s 3s/step - loss: 1.4099 - accuracy: 0.3627 - val_loss: 1.3837 - val_accuracy: 0.4187\n",
            "Epoch 35/100\n",
            "25/25 [==============================] - 73s 3s/step - loss: 1.4206 - accuracy: 0.3924 - val_loss: 1.3718 - val_accuracy: 0.3750\n",
            "Epoch 36/100\n",
            "25/25 [==============================] - 73s 3s/step - loss: 1.3975 - accuracy: 0.4046 - val_loss: 1.4283 - val_accuracy: 0.3438\n",
            "Epoch 37/100\n",
            "25/25 [==============================] - 73s 3s/step - loss: 1.3649 - accuracy: 0.3914 - val_loss: 1.3517 - val_accuracy: 0.3750\n",
            "Epoch 38/100\n",
            "25/25 [==============================] - 73s 3s/step - loss: 1.4180 - accuracy: 0.3938 - val_loss: 1.3822 - val_accuracy: 0.3688\n",
            "Epoch 39/100\n",
            "25/25 [==============================] - 73s 3s/step - loss: 1.3381 - accuracy: 0.4155 - val_loss: 1.3207 - val_accuracy: 0.3688\n",
            "Epoch 40/100\n",
            "25/25 [==============================] - 73s 3s/step - loss: 1.3669 - accuracy: 0.4272 - val_loss: 1.4050 - val_accuracy: 0.4062\n",
            "Epoch 41/100\n",
            "25/25 [==============================] - 73s 3s/step - loss: 1.3773 - accuracy: 0.3857 - val_loss: 1.3734 - val_accuracy: 0.3688\n",
            "Epoch 42/100\n",
            "25/25 [==============================] - 73s 3s/step - loss: 1.3789 - accuracy: 0.4293 - val_loss: 1.3920 - val_accuracy: 0.3812\n",
            "Epoch 43/100\n",
            "25/25 [==============================] - 73s 3s/step - loss: 1.3890 - accuracy: 0.3935 - val_loss: 1.3040 - val_accuracy: 0.4187\n",
            "Epoch 44/100\n",
            "25/25 [==============================] - 73s 3s/step - loss: 1.3820 - accuracy: 0.3811 - val_loss: 1.3384 - val_accuracy: 0.4062\n",
            "Epoch 45/100\n",
            "25/25 [==============================] - 73s 3s/step - loss: 1.3107 - accuracy: 0.4293 - val_loss: 1.3420 - val_accuracy: 0.4125\n",
            "Epoch 46/100\n",
            "25/25 [==============================] - 72s 3s/step - loss: 1.3621 - accuracy: 0.4120 - val_loss: 1.4175 - val_accuracy: 0.3562\n",
            "Epoch 47/100\n",
            "25/25 [==============================] - 73s 3s/step - loss: 1.3987 - accuracy: 0.3523 - val_loss: 1.2994 - val_accuracy: 0.4750\n",
            "Epoch 48/100\n",
            "25/25 [==============================] - 73s 3s/step - loss: 1.3380 - accuracy: 0.4253 - val_loss: 1.3912 - val_accuracy: 0.3750\n",
            "Epoch 49/100\n",
            "25/25 [==============================] - 73s 3s/step - loss: 1.3229 - accuracy: 0.4340 - val_loss: 1.2598 - val_accuracy: 0.4563\n",
            "Epoch 50/100\n",
            "25/25 [==============================] - 73s 3s/step - loss: 1.3825 - accuracy: 0.3980 - val_loss: 1.3712 - val_accuracy: 0.3313\n",
            "Epoch 51/100\n",
            "25/25 [==============================] - 72s 3s/step - loss: 1.3604 - accuracy: 0.4107 - val_loss: 1.2963 - val_accuracy: 0.4000\n",
            "Epoch 52/100\n",
            "25/25 [==============================] - 72s 3s/step - loss: 1.3374 - accuracy: 0.4487 - val_loss: 1.3228 - val_accuracy: 0.4000\n",
            "Epoch 53/100\n",
            "25/25 [==============================] - 72s 3s/step - loss: 1.3724 - accuracy: 0.4208 - val_loss: 1.2530 - val_accuracy: 0.5000\n",
            "Epoch 54/100\n",
            "25/25 [==============================] - 73s 3s/step - loss: 1.3836 - accuracy: 0.3915 - val_loss: 1.3533 - val_accuracy: 0.4062\n",
            "Epoch 55/100\n",
            "25/25 [==============================] - 73s 3s/step - loss: 1.3245 - accuracy: 0.4346 - val_loss: 1.3529 - val_accuracy: 0.4313\n",
            "Epoch 56/100\n",
            "25/25 [==============================] - 73s 3s/step - loss: 1.3545 - accuracy: 0.4303 - val_loss: 1.3994 - val_accuracy: 0.3938\n",
            "Epoch 57/100\n",
            "25/25 [==============================] - 73s 3s/step - loss: 1.4175 - accuracy: 0.3799 - val_loss: 1.3340 - val_accuracy: 0.4375\n",
            "Epoch 58/100\n",
            "25/25 [==============================] - 73s 3s/step - loss: 1.3521 - accuracy: 0.4225 - val_loss: 1.3140 - val_accuracy: 0.3750\n",
            "Epoch 59/100\n",
            "25/25 [==============================] - 72s 3s/step - loss: 1.3790 - accuracy: 0.3878 - val_loss: 1.3477 - val_accuracy: 0.3938\n",
            "Epoch 60/100\n",
            "25/25 [==============================] - 72s 3s/step - loss: 1.3462 - accuracy: 0.4029 - val_loss: 1.3232 - val_accuracy: 0.4187\n",
            "Epoch 61/100\n",
            "25/25 [==============================] - 73s 3s/step - loss: 1.3320 - accuracy: 0.4169 - val_loss: 1.3916 - val_accuracy: 0.3812\n",
            "Epoch 62/100\n",
            "25/25 [==============================] - 73s 3s/step - loss: 1.3039 - accuracy: 0.4327 - val_loss: 1.2400 - val_accuracy: 0.4125\n",
            "Epoch 63/100\n",
            "25/25 [==============================] - 73s 3s/step - loss: 1.3436 - accuracy: 0.3989 - val_loss: 1.2896 - val_accuracy: 0.4000\n",
            "Epoch 64/100\n",
            "25/25 [==============================] - 73s 3s/step - loss: 1.3758 - accuracy: 0.3732 - val_loss: 1.2374 - val_accuracy: 0.4563\n",
            "Epoch 65/100\n",
            "25/25 [==============================] - 73s 3s/step - loss: 1.3397 - accuracy: 0.4575 - val_loss: 1.3145 - val_accuracy: 0.4313\n",
            "Epoch 66/100\n",
            "25/25 [==============================] - 73s 3s/step - loss: 1.3383 - accuracy: 0.4421 - val_loss: 1.3389 - val_accuracy: 0.4437\n",
            "Epoch 67/100\n",
            "25/25 [==============================] - 73s 3s/step - loss: 1.3210 - accuracy: 0.4237 - val_loss: 1.3307 - val_accuracy: 0.4125\n",
            "Epoch 68/100\n",
            "25/25 [==============================] - 72s 3s/step - loss: 1.3065 - accuracy: 0.4033 - val_loss: 1.3466 - val_accuracy: 0.4750\n",
            "Epoch 69/100\n",
            "25/25 [==============================] - 72s 3s/step - loss: 1.3580 - accuracy: 0.4376 - val_loss: 1.3335 - val_accuracy: 0.4062\n",
            "Epoch 70/100\n",
            "25/25 [==============================] - 71s 3s/step - loss: 1.3310 - accuracy: 0.4053 - val_loss: 1.2116 - val_accuracy: 0.4688\n",
            "Epoch 71/100\n",
            "25/25 [==============================] - 73s 3s/step - loss: 1.3251 - accuracy: 0.4101 - val_loss: 1.3159 - val_accuracy: 0.4000\n",
            "Epoch 72/100\n",
            "25/25 [==============================] - 73s 3s/step - loss: 1.3594 - accuracy: 0.4263 - val_loss: 1.2639 - val_accuracy: 0.4812\n",
            "Epoch 73/100\n",
            "25/25 [==============================] - 71s 3s/step - loss: 1.3304 - accuracy: 0.3883 - val_loss: 1.2488 - val_accuracy: 0.4563\n",
            "Epoch 74/100\n",
            "25/25 [==============================] - 73s 3s/step - loss: 1.3482 - accuracy: 0.4104 - val_loss: 1.2599 - val_accuracy: 0.4313\n",
            "Epoch 75/100\n",
            "25/25 [==============================] - 73s 3s/step - loss: 1.2693 - accuracy: 0.4711 - val_loss: 1.3457 - val_accuracy: 0.4313\n",
            "Epoch 76/100\n",
            "25/25 [==============================] - 73s 3s/step - loss: 1.3661 - accuracy: 0.4149 - val_loss: 1.2695 - val_accuracy: 0.4750\n",
            "Epoch 77/100\n",
            "25/25 [==============================] - 72s 3s/step - loss: 1.3918 - accuracy: 0.4010 - val_loss: 1.2556 - val_accuracy: 0.4750\n",
            "Epoch 78/100\n",
            "25/25 [==============================] - 72s 3s/step - loss: 1.3225 - accuracy: 0.4218 - val_loss: 1.2072 - val_accuracy: 0.5250\n",
            "Epoch 79/100\n",
            "25/25 [==============================] - 72s 3s/step - loss: 1.3401 - accuracy: 0.4446 - val_loss: 1.3081 - val_accuracy: 0.4062\n",
            "Epoch 80/100\n",
            "25/25 [==============================] - 73s 3s/step - loss: 1.3360 - accuracy: 0.4020 - val_loss: 1.2638 - val_accuracy: 0.4437\n",
            "Epoch 81/100\n",
            "25/25 [==============================] - 73s 3s/step - loss: 1.3385 - accuracy: 0.3998 - val_loss: 1.2475 - val_accuracy: 0.4313\n",
            "Epoch 82/100\n",
            "25/25 [==============================] - 72s 3s/step - loss: 1.3393 - accuracy: 0.4152 - val_loss: 1.3271 - val_accuracy: 0.4187\n",
            "Epoch 83/100\n",
            "25/25 [==============================] - 73s 3s/step - loss: 1.2853 - accuracy: 0.4779 - val_loss: 1.3063 - val_accuracy: 0.4563\n",
            "Epoch 84/100\n",
            "25/25 [==============================] - 73s 3s/step - loss: 1.2733 - accuracy: 0.4661 - val_loss: 1.2715 - val_accuracy: 0.5000\n",
            "Epoch 85/100\n",
            "25/25 [==============================] - 72s 3s/step - loss: 1.3774 - accuracy: 0.4149 - val_loss: 1.2792 - val_accuracy: 0.4125\n",
            "Epoch 86/100\n",
            "25/25 [==============================] - 72s 3s/step - loss: 1.3656 - accuracy: 0.4022 - val_loss: 1.2788 - val_accuracy: 0.4875\n",
            "Epoch 87/100\n",
            "25/25 [==============================] - 72s 3s/step - loss: 1.2811 - accuracy: 0.4737 - val_loss: 1.1745 - val_accuracy: 0.5063\n",
            "Epoch 88/100\n",
            "25/25 [==============================] - 72s 3s/step - loss: 1.2930 - accuracy: 0.4467 - val_loss: 1.2693 - val_accuracy: 0.4437\n",
            "Epoch 89/100\n",
            "25/25 [==============================] - 72s 3s/step - loss: 1.3205 - accuracy: 0.4437 - val_loss: 1.3626 - val_accuracy: 0.4375\n",
            "Epoch 90/100\n",
            "25/25 [==============================] - 73s 3s/step - loss: 1.3325 - accuracy: 0.4373 - val_loss: 1.2134 - val_accuracy: 0.4750\n",
            "Epoch 91/100\n",
            "25/25 [==============================] - 73s 3s/step - loss: 1.3228 - accuracy: 0.4516 - val_loss: 1.2484 - val_accuracy: 0.4625\n",
            "Epoch 92/100\n",
            "25/25 [==============================] - 73s 3s/step - loss: 1.2788 - accuracy: 0.4489 - val_loss: 1.2707 - val_accuracy: 0.4500\n",
            "Epoch 93/100\n",
            "25/25 [==============================] - 72s 3s/step - loss: 1.3229 - accuracy: 0.4126 - val_loss: 1.2001 - val_accuracy: 0.5188\n",
            "Epoch 94/100\n",
            "25/25 [==============================] - 72s 3s/step - loss: 1.2999 - accuracy: 0.4075 - val_loss: 1.3212 - val_accuracy: 0.4688\n",
            "Epoch 95/100\n",
            "25/25 [==============================] - 72s 3s/step - loss: 1.2920 - accuracy: 0.4373 - val_loss: 1.3209 - val_accuracy: 0.4062\n",
            "Epoch 96/100\n",
            "25/25 [==============================] - 73s 3s/step - loss: 1.2761 - accuracy: 0.4435 - val_loss: 1.2659 - val_accuracy: 0.4437\n",
            "Epoch 97/100\n",
            "25/25 [==============================] - 71s 3s/step - loss: 1.3238 - accuracy: 0.3815 - val_loss: 1.2351 - val_accuracy: 0.4938\n",
            "Epoch 98/100\n",
            "25/25 [==============================] - 72s 3s/step - loss: 1.2869 - accuracy: 0.4683 - val_loss: 1.3144 - val_accuracy: 0.4187\n",
            "Epoch 99/100\n",
            "25/25 [==============================] - 73s 3s/step - loss: 1.2933 - accuracy: 0.4584 - val_loss: 1.2751 - val_accuracy: 0.4375\n",
            "Epoch 100/100\n",
            "25/25 [==============================] - 73s 3s/step - loss: 1.2704 - accuracy: 0.4399 - val_loss: 1.3476 - val_accuracy: 0.3938\n"
          ],
          "name": "stdout"
        }
      ]
    },
    {
      "cell_type": "code",
      "metadata": {
        "colab": {
          "base_uri": "https://localhost:8080/"
        },
        "id": "7J5amajViGdT",
        "outputId": "ad8211e7-57c3-4686-b42f-192b48b347fd"
      },
      "source": [
        "%cd \"/content/drive/MyDrive/dsc/PLAN B [ONGOING]/\"\n",
        "model.save_weights('model_weightsScratch.h5')\n",
        "model.save('model_kerasScratch.h5')\n",
        "print(\"Saved model to disk\")"
      ],
      "execution_count": null,
      "outputs": [
        {
          "output_type": "stream",
          "text": [
            "/content/drive/MyDrive/dsc/PLAN B [ONGOING]\n",
            "Saved model to disk\n"
          ],
          "name": "stdout"
        }
      ]
    },
    {
      "cell_type": "code",
      "metadata": {
        "id": "0nPv0Yy_Xk9g",
        "colab": {
          "base_uri": "https://localhost:8080/",
          "height": 580
        },
        "outputId": "62e4351b-4caa-4afd-e0ce-dfd5847fce69"
      },
      "source": [
        "# visualizing losses and accuracy\n",
        "import matplotlib.pyplot as plt\n",
        "%matplotlib inline\n",
        "\n",
        "train_loss=result.history['loss']\n",
        "val_loss=result.history['val_loss']\n",
        "train_acc=result.history['accuracy']\n",
        "val_acc=result.history['val_accuracy']\n",
        "\n",
        "epochs = range(len(train_acc))\n",
        "\n",
        "plt.plot(epochs,train_loss,'r', label='train_loss')\n",
        "plt.plot(epochs,val_loss,'b', label='val_loss')\n",
        "plt.title('train_loss vs val_loss')\n",
        "plt.legend()\n",
        "plt.figure()\n",
        "\n",
        "plt.plot(epochs,train_acc,'r', label='train_acc')\n",
        "plt.plot(epochs,val_acc,'b', label='val_acc')\n",
        "plt.title('train_acc vs val_acc')\n",
        "plt.legend()\n",
        "plt.figure()"
      ],
      "execution_count": null,
      "outputs": [
        {
          "output_type": "execute_result",
          "data": {
            "text/plain": [
              "<Figure size 432x288 with 0 Axes>"
            ]
          },
          "metadata": {
            "tags": []
          },
          "execution_count": 17
        },
        {
          "output_type": "display_data",
          "data": {
            "image/png": "[encoded data removed]",
            "text/plain": [
              "<Figure size 432x288 with 1 Axes>"
            ]
          },
          "metadata": {
            "tags": [],
            "needs_background": "light"
          }
        },
        {
          "output_type": "display_data",
          "data": {
            "image/png": "[encoded data removed]",
            "text/plain": [
              "<Figure size 432x288 with 1 Axes>"
            ]
          },
          "metadata": {
            "tags": [],
            "needs_background": "light"
          }
        },
        {
          "output_type": "display_data",
          "data": {
            "text/plain": [
              "<Figure size 432x288 with 0 Axes>"
            ]
          },
          "metadata": {
            "tags": []
          }
        }
      ]
    }
  ]
}